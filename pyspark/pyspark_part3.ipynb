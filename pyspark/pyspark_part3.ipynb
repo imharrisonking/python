{
 "cells": [
  {
   "cell_type": "code",
   "execution_count": 1,
   "metadata": {},
   "outputs": [],
   "source": [
    "import pyspark\n",
    "from pyspark.sql import SparkSession"
   ]
  },
  {
   "cell_type": "code",
   "execution_count": 2,
   "metadata": {},
   "outputs": [],
   "source": [
    "spark = SparkSession.builder.appName('Practise').getOrCreate()"
   ]
  },
  {
   "cell_type": "code",
   "execution_count": 3,
   "metadata": {},
   "outputs": [
    {
     "name": "stdout",
     "output_type": "stream",
     "text": [
      "+--------+----+----------+------+\n",
      "|    Name| Age|Experience|Salary|\n",
      "+--------+----+----------+------+\n",
      "|Harrison|  24|         2| 30000|\n",
      "|  Edward|  27|         2| 30000|\n",
      "| Charlie|  25|         4| 25000|\n",
      "|    Luka|  25|         4| 40000|\n",
      "| Kirstin|  51|        30| 60000|\n",
      "|   Harry|  55|        34| 34000|\n",
      "|   Sunny|  29|         4| 20000|\n",
      "|  Sophia|null|      null| 76000|\n",
      "|    null|  34|        10| 38000|\n",
      "|    null|  36|      null|  null|\n",
      "+--------+----+----------+------+\n",
      "\n"
     ]
    }
   ],
   "source": [
    "df = spark.read.csv('Salary.csv', header=True, inferSchema=True)\n",
    "df.show()"
   ]
  },
  {
   "cell_type": "code",
   "execution_count": 4,
   "metadata": {},
   "outputs": [
    {
     "name": "stdout",
     "output_type": "stream",
     "text": [
      "+--------+---+----------+------+\n",
      "|    Name|Age|Experience|Salary|\n",
      "+--------+---+----------+------+\n",
      "|Harrison| 24|         2| 30000|\n",
      "|  Edward| 27|         2| 30000|\n",
      "| Charlie| 25|         4| 25000|\n",
      "|    Luka| 25|         4| 40000|\n",
      "| Kirstin| 51|        30| 60000|\n",
      "|   Harry| 55|        34| 34000|\n",
      "|   Sunny| 29|         4| 20000|\n",
      "+--------+---+----------+------+\n",
      "\n"
     ]
    }
   ],
   "source": [
    "# Drop the columns\n",
    "df.na.drop().show()"
   ]
  },
  {
   "cell_type": "code",
   "execution_count": 6,
   "metadata": {},
   "outputs": [
    {
     "name": "stdout",
     "output_type": "stream",
     "text": [
      "+--------+----+----------+------+\n",
      "|    Name| Age|Experience|Salary|\n",
      "+--------+----+----------+------+\n",
      "|Harrison|  24|         2| 30000|\n",
      "|  Edward|  27|         2| 30000|\n",
      "| Charlie|  25|         4| 25000|\n",
      "|    Luka|  25|         4| 40000|\n",
      "| Kirstin|  51|        30| 60000|\n",
      "|   Harry|  55|        34| 34000|\n",
      "|   Sunny|  29|         4| 20000|\n",
      "|  Sophia|null|      null| 76000|\n",
      "|    null|  34|        10| 38000|\n",
      "|    null|  36|      null|  null|\n",
      "+--------+----+----------+------+\n",
      "\n"
     ]
    }
   ],
   "source": [
    "# how='any' will drop a row where there are any null values\n",
    "df.na.drop(how='any').show()"
   ]
  },
  {
   "cell_type": "code",
   "execution_count": 8,
   "metadata": {},
   "outputs": [
    {
     "name": "stdout",
     "output_type": "stream",
     "text": [
      "+--------+---+----------+------+\n",
      "|    Name|Age|Experience|Salary|\n",
      "+--------+---+----------+------+\n",
      "|Harrison| 24|         2| 30000|\n",
      "|  Edward| 27|         2| 30000|\n",
      "| Charlie| 25|         4| 25000|\n",
      "|    Luka| 25|         4| 40000|\n",
      "| Kirstin| 51|        30| 60000|\n",
      "|   Harry| 55|        34| 34000|\n",
      "|   Sunny| 29|         4| 20000|\n",
      "|    null| 34|        10| 38000|\n",
      "+--------+---+----------+------+\n",
      "\n"
     ]
    }
   ],
   "source": [
    "df.na.drop(how='any', thresh=3).show()"
   ]
  },
  {
   "cell_type": "code",
   "execution_count": 9,
   "metadata": {},
   "outputs": [
    {
     "name": "stdout",
     "output_type": "stream",
     "text": [
      "+--------+---+----------+------+\n",
      "|    Name|Age|Experience|Salary|\n",
      "+--------+---+----------+------+\n",
      "|Harrison| 24|         2| 30000|\n",
      "|  Edward| 27|         2| 30000|\n",
      "| Charlie| 25|         4| 25000|\n",
      "|    Luka| 25|         4| 40000|\n",
      "| Kirstin| 51|        30| 60000|\n",
      "|   Harry| 55|        34| 34000|\n",
      "|   Sunny| 29|         4| 20000|\n",
      "|    null| 34|        10| 38000|\n",
      "+--------+---+----------+------+\n",
      "\n"
     ]
    }
   ],
   "source": [
    "# Subset to only drop null values where they appear in one column\n",
    "df.na.drop(how='any', subset=['Experience']).show()"
   ]
  },
  {
   "cell_type": "code",
   "execution_count": 11,
   "metadata": {},
   "outputs": [
    {
     "name": "stdout",
     "output_type": "stream",
     "text": [
      "+--------+----+----------+------+\n",
      "|    Name| Age|Experience|Salary|\n",
      "+--------+----+----------+------+\n",
      "|Harrison|  24|         2| 30000|\n",
      "|  Edward|  27|         2| 30000|\n",
      "| Charlie|  25|         4| 25000|\n",
      "|    Luka|  25|         4| 40000|\n",
      "| Kirstin|  51|        30| 60000|\n",
      "|   Harry|  55|        34| 34000|\n",
      "|   Sunny|  29|         4| 20000|\n",
      "|  Sophia|null|      null| 76000|\n",
      "|    null|  34|        10| 38000|\n",
      "|    null|  36|      null|  null|\n",
      "+--------+----+----------+------+\n",
      "\n"
     ]
    }
   ],
   "source": [
    "df.show()"
   ]
  },
  {
   "cell_type": "code",
   "execution_count": 13,
   "metadata": {},
   "outputs": [
    {
     "name": "stdout",
     "output_type": "stream",
     "text": [
      "+--------+----+----------+------+\n",
      "|    Name| Age|Experience|Salary|\n",
      "+--------+----+----------+------+\n",
      "|Harrison|  24|         2| 30000|\n",
      "|  Edward|  27|         2| 30000|\n",
      "| Charlie|  25|         4| 25000|\n",
      "|    Luka|  25|         4| 40000|\n",
      "| Kirstin|  51|        30| 60000|\n",
      "|   Harry|  55|        34| 34000|\n",
      "|   Sunny|  29|         4| 20000|\n",
      "|  Sophia|null|         0| 76000|\n",
      "|    null|  34|        10| 38000|\n",
      "|    null|  36|         0|  null|\n",
      "+--------+----+----------+------+\n",
      "\n"
     ]
    }
   ],
   "source": [
    "# Filling missing values\n",
    "df.na.fill(0, 'Experience').show()"
   ]
  },
  {
   "cell_type": "code",
   "execution_count": 14,
   "metadata": {},
   "outputs": [
    {
     "name": "stdout",
     "output_type": "stream",
     "text": [
      "+--------+----+----------+------+\n",
      "|    Name| Age|Experience|Salary|\n",
      "+--------+----+----------+------+\n",
      "|Harrison|  24|         2| 30000|\n",
      "|  Edward|  27|         2| 30000|\n",
      "| Charlie|  25|         4| 25000|\n",
      "|    Luka|  25|         4| 40000|\n",
      "| Kirstin|  51|        30| 60000|\n",
      "|   Harry|  55|        34| 34000|\n",
      "|   Sunny|  29|         4| 20000|\n",
      "|  Sophia|null|      null| 76000|\n",
      "|    null|  34|        10| 38000|\n",
      "|    null|  36|      null|  null|\n",
      "+--------+----+----------+------+\n",
      "\n"
     ]
    }
   ],
   "source": [
    "df.show()"
   ]
  },
  {
   "cell_type": "code",
   "execution_count": 15,
   "metadata": {},
   "outputs": [],
   "source": [
    "# Fill null values with the mean of the column\n",
    "from pyspark.ml.feature import Imputer\n",
    "\n",
    "imputer = Imputer(\n",
    "    inputCols=['Age', 'Experience', 'Salary'],\n",
    "    outputCols=['{}_imputed'.format(c) for c in ['Age', 'Experience', 'Salary']]\n",
    "    ).setStrategy('mean')"
   ]
  },
  {
   "cell_type": "code",
   "execution_count": 16,
   "metadata": {},
   "outputs": [
    {
     "name": "stdout",
     "output_type": "stream",
     "text": [
      "+--------+----+----------+------+-----------+------------------+--------------+\n",
      "|    Name| Age|Experience|Salary|Age_imputed|Experience_imputed|Salary_imputed|\n",
      "+--------+----+----------+------+-----------+------------------+--------------+\n",
      "|Harrison|  24|         2| 30000|         24|                 2|         30000|\n",
      "|  Edward|  27|         2| 30000|         27|                 2|         30000|\n",
      "| Charlie|  25|         4| 25000|         25|                 4|         25000|\n",
      "|    Luka|  25|         4| 40000|         25|                 4|         40000|\n",
      "| Kirstin|  51|        30| 60000|         51|                30|         60000|\n",
      "|   Harry|  55|        34| 34000|         55|                34|         34000|\n",
      "|   Sunny|  29|         4| 20000|         29|                 4|         20000|\n",
      "|  Sophia|null|      null| 76000|         34|                11|         76000|\n",
      "|    null|  34|        10| 38000|         34|                10|         38000|\n",
      "|    null|  36|      null|  null|         36|                11|         39222|\n",
      "+--------+----+----------+------+-----------+------------------+--------------+\n",
      "\n"
     ]
    }
   ],
   "source": [
    "# Add imputation cols to df\n",
    "imputer.fit(df).transform(df).show()"
   ]
  }
 ],
 "metadata": {
  "kernelspec": {
   "display_name": "Python 3.9.7 ('base')",
   "language": "python",
   "name": "python3"
  },
  "language_info": {
   "codemirror_mode": {
    "name": "ipython",
    "version": 3
   },
   "file_extension": ".py",
   "mimetype": "text/x-python",
   "name": "python",
   "nbconvert_exporter": "python",
   "pygments_lexer": "ipython3",
   "version": "3.9.7"
  },
  "orig_nbformat": 4,
  "vscode": {
   "interpreter": {
    "hash": "e4cce46d6be9934fbd27f9ca0432556941ea5bdf741d4f4d64c6cd7f8dfa8fba"
   }
  }
 },
 "nbformat": 4,
 "nbformat_minor": 2
}

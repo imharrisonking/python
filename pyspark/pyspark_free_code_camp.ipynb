{
 "cells": [
  {
   "cell_type": "code",
   "execution_count": 1,
   "metadata": {},
   "outputs": [],
   "source": [
    "import pandas as pd\n",
    "from pyspark.sql import SparkSession"
   ]
  },
  {
   "cell_type": "code",
   "execution_count": 2,
   "metadata": {},
   "outputs": [],
   "source": [
    "spark = SparkSession.builder.appName('Dataframe').getOrCreate()"
   ]
  },
  {
   "cell_type": "code",
   "execution_count": 25,
   "metadata": {},
   "outputs": [
    {
     "name": "stdout",
     "output_type": "stream",
     "text": [
      "+--------+---+\n",
      "|    Name|Age|\n",
      "+--------+---+\n",
      "|Harrison| 24|\n",
      "|  Edward| 27|\n",
      "| Charlie| 25|\n",
      "|    Luka| 25|\n",
      "| Kirstin| 51|\n",
      "|   Harry| 55|\n",
      "+--------+---+\n",
      "\n"
     ]
    }
   ],
   "source": [
    "df = spark.read.csv('Age.csv', header=True, inferSchema=True)\n",
    "df.show()"
   ]
  },
  {
   "cell_type": "code",
   "execution_count": 26,
   "metadata": {},
   "outputs": [
    {
     "data": {
      "text/plain": [
       "pyspark.sql.dataframe.DataFrame"
      ]
     },
     "execution_count": 26,
     "metadata": {},
     "output_type": "execute_result"
    }
   ],
   "source": [
    "type(df)"
   ]
  },
  {
   "cell_type": "code",
   "execution_count": 27,
   "metadata": {},
   "outputs": [
    {
     "data": {
      "text/plain": [
       "[Row(Name='Harrison', Age=24),\n",
       " Row(Name='Edward', Age=27),\n",
       " Row(Name='Charlie', Age=25)]"
      ]
     },
     "execution_count": 27,
     "metadata": {},
     "output_type": "execute_result"
    }
   ],
   "source": [
    "df.head(3)"
   ]
  },
  {
   "cell_type": "code",
   "execution_count": 28,
   "metadata": {},
   "outputs": [
    {
     "name": "stdout",
     "output_type": "stream",
     "text": [
      "root\n",
      " |-- Name: string (nullable = true)\n",
      " |-- Age: integer (nullable = true)\n",
      "\n"
     ]
    }
   ],
   "source": [
    "df.printSchema()"
   ]
  },
  {
   "cell_type": "markdown",
   "metadata": {},
   "source": [
    "## Selecting and filtering data"
   ]
  },
  {
   "cell_type": "code",
   "execution_count": 29,
   "metadata": {},
   "outputs": [
    {
     "name": "stdout",
     "output_type": "stream",
     "text": [
      "+--------+---+----------+\n",
      "|    Name|Age|Experience|\n",
      "+--------+---+----------+\n",
      "|Harrison| 24|         2|\n",
      "|  Edward| 27|         2|\n",
      "| Charlie| 25|         4|\n",
      "|    Luka| 25|         4|\n",
      "| Kirstin| 51|        30|\n",
      "|   Harry| 55|        34|\n",
      "+--------+---+----------+\n",
      "\n"
     ]
    }
   ],
   "source": [
    "df = spark.read.option('header', 'true').csv('Experience.csv')\n",
    "df.show()"
   ]
  },
  {
   "cell_type": "code",
   "execution_count": 30,
   "metadata": {},
   "outputs": [
    {
     "name": "stdout",
     "output_type": "stream",
     "text": [
      "+--------+----------+\n",
      "|    Name|Experience|\n",
      "+--------+----------+\n",
      "|Harrison|         2|\n",
      "|  Edward|         2|\n",
      "| Charlie|         4|\n",
      "|    Luka|         4|\n",
      "| Kirstin|        30|\n",
      "|   Harry|        34|\n",
      "+--------+----------+\n",
      "\n"
     ]
    }
   ],
   "source": [
    "df.select(['Name', 'Experience']).show()"
   ]
  },
  {
   "cell_type": "code",
   "execution_count": 31,
   "metadata": {},
   "outputs": [
    {
     "data": {
      "text/plain": [
       "Column<'Name'>"
      ]
     },
     "execution_count": 31,
     "metadata": {},
     "output_type": "execute_result"
    }
   ],
   "source": [
    "df['Name']"
   ]
  },
  {
   "cell_type": "code",
   "execution_count": 32,
   "metadata": {},
   "outputs": [
    {
     "data": {
      "text/plain": [
       "[('Name', 'string'), ('Age', 'string'), ('Experience', 'string')]"
      ]
     },
     "execution_count": 32,
     "metadata": {},
     "output_type": "execute_result"
    }
   ],
   "source": [
    "df.dtypes"
   ]
  },
  {
   "cell_type": "code",
   "execution_count": 33,
   "metadata": {},
   "outputs": [
    {
     "name": "stdout",
     "output_type": "stream",
     "text": [
      "+-------+-------+------------------+------------------+\n",
      "|summary|   Name|               Age|        Experience|\n",
      "+-------+-------+------------------+------------------+\n",
      "|  count|      6|                 6|                 6|\n",
      "|   mean|   null|              34.5|12.666666666666666|\n",
      "| stddev|   null|14.418737808837498|15.055453054181621|\n",
      "|    min|Charlie|                24|                 2|\n",
      "|    max|   Luka|                55|                 4|\n",
      "+-------+-------+------------------+------------------+\n",
      "\n"
     ]
    }
   ],
   "source": [
    "df.describe().show()"
   ]
  },
  {
   "cell_type": "code",
   "execution_count": 34,
   "metadata": {},
   "outputs": [
    {
     "name": "stdout",
     "output_type": "stream",
     "text": [
      "+--------+---+----------+------------------------+\n",
      "|    Name|Age|Experience|Experience After 2 years|\n",
      "+--------+---+----------+------------------------+\n",
      "|Harrison| 24|         2|                     4.0|\n",
      "|  Edward| 27|         2|                     4.0|\n",
      "| Charlie| 25|         4|                     6.0|\n",
      "|    Luka| 25|         4|                     6.0|\n",
      "| Kirstin| 51|        30|                    32.0|\n",
      "|   Harry| 55|        34|                    36.0|\n",
      "+--------+---+----------+------------------------+\n",
      "\n"
     ]
    }
   ],
   "source": [
    "df = df.withColumn('Experience After 2 years', df['Experience']+2)\n",
    "df.show()"
   ]
  },
  {
   "cell_type": "code",
   "execution_count": 35,
   "metadata": {},
   "outputs": [
    {
     "data": {
      "text/plain": [
       "<bound method DataFrame.show of DataFrame[Name: string, Age: string, Experience: string]>"
      ]
     },
     "execution_count": 35,
     "metadata": {},
     "output_type": "execute_result"
    }
   ],
   "source": [
    "# Drop the columns\n",
    "df = df.drop('Experience after 2 years')\n",
    "df.show"
   ]
  },
  {
   "cell_type": "code",
   "execution_count": 36,
   "metadata": {},
   "outputs": [
    {
     "name": "stdout",
     "output_type": "stream",
     "text": [
      "+--------+---+----------+\n",
      "|New Name|Age|Experience|\n",
      "+--------+---+----------+\n",
      "|Harrison| 24|         2|\n",
      "|  Edward| 27|         2|\n",
      "| Charlie| 25|         4|\n",
      "|    Luka| 25|         4|\n",
      "| Kirstin| 51|        30|\n",
      "|   Harry| 55|        34|\n",
      "+--------+---+----------+\n",
      "\n"
     ]
    }
   ],
   "source": [
    "# Rename the columns\n",
    "df = df.withColumnRenamed('Name', 'New Name')\n",
    "df.show()"
   ]
  },
  {
   "cell_type": "markdown",
   "metadata": {},
   "source": [
    "## Handling missing values"
   ]
  },
  {
   "cell_type": "code",
   "execution_count": 37,
   "metadata": {},
   "outputs": [
    {
     "name": "stdout",
     "output_type": "stream",
     "text": [
      "+--------+----+----------+------+\n",
      "|    Name| Age|Experience|Salary|\n",
      "+--------+----+----------+------+\n",
      "|Harrison|  24|         2| 30000|\n",
      "|  Edward|  27|         2| 30000|\n",
      "| Charlie|  25|         4| 25000|\n",
      "|    Luka|  25|         4| 40000|\n",
      "| Kirstin|  51|        30| 60000|\n",
      "|   Harry|  55|        34| 34000|\n",
      "|   Sunny|  29|         4| 20000|\n",
      "|  Sophia|null|      null| 76000|\n",
      "|    null|  34|        10| 38000|\n",
      "|    null|  36|      null|  null|\n",
      "+--------+----+----------+------+\n",
      "\n"
     ]
    }
   ],
   "source": [
    "df = spark.read.csv('Salary.csv', header=True, inferSchema=True)\n",
    "df.show()"
   ]
  },
  {
   "cell_type": "code",
   "execution_count": 38,
   "metadata": {},
   "outputs": [
    {
     "name": "stdout",
     "output_type": "stream",
     "text": [
      "+--------+---+----------+------+\n",
      "|    Name|Age|Experience|Salary|\n",
      "+--------+---+----------+------+\n",
      "|Harrison| 24|         2| 30000|\n",
      "|  Edward| 27|         2| 30000|\n",
      "| Charlie| 25|         4| 25000|\n",
      "|    Luka| 25|         4| 40000|\n",
      "| Kirstin| 51|        30| 60000|\n",
      "|   Harry| 55|        34| 34000|\n",
      "|   Sunny| 29|         4| 20000|\n",
      "+--------+---+----------+------+\n",
      "\n"
     ]
    }
   ],
   "source": [
    "# Drop the columns\n",
    "df.na.drop().show()"
   ]
  },
  {
   "cell_type": "code",
   "execution_count": 39,
   "metadata": {},
   "outputs": [
    {
     "name": "stdout",
     "output_type": "stream",
     "text": [
      "+--------+---+----------+------+\n",
      "|    Name|Age|Experience|Salary|\n",
      "+--------+---+----------+------+\n",
      "|Harrison| 24|         2| 30000|\n",
      "|  Edward| 27|         2| 30000|\n",
      "| Charlie| 25|         4| 25000|\n",
      "|    Luka| 25|         4| 40000|\n",
      "| Kirstin| 51|        30| 60000|\n",
      "|   Harry| 55|        34| 34000|\n",
      "|   Sunny| 29|         4| 20000|\n",
      "+--------+---+----------+------+\n",
      "\n"
     ]
    }
   ],
   "source": [
    "# how='any' will drop a row where there are any null values\n",
    "df.na.drop(how='any').show()"
   ]
  },
  {
   "cell_type": "code",
   "execution_count": 40,
   "metadata": {},
   "outputs": [
    {
     "name": "stdout",
     "output_type": "stream",
     "text": [
      "+--------+---+----------+------+\n",
      "|    Name|Age|Experience|Salary|\n",
      "+--------+---+----------+------+\n",
      "|Harrison| 24|         2| 30000|\n",
      "|  Edward| 27|         2| 30000|\n",
      "| Charlie| 25|         4| 25000|\n",
      "|    Luka| 25|         4| 40000|\n",
      "| Kirstin| 51|        30| 60000|\n",
      "|   Harry| 55|        34| 34000|\n",
      "|   Sunny| 29|         4| 20000|\n",
      "|    null| 34|        10| 38000|\n",
      "+--------+---+----------+------+\n",
      "\n"
     ]
    }
   ],
   "source": [
    "df.na.drop(how='any', thresh=3).show()"
   ]
  },
  {
   "cell_type": "code",
   "execution_count": 41,
   "metadata": {},
   "outputs": [
    {
     "name": "stdout",
     "output_type": "stream",
     "text": [
      "+--------+---+----------+------+\n",
      "|    Name|Age|Experience|Salary|\n",
      "+--------+---+----------+------+\n",
      "|Harrison| 24|         2| 30000|\n",
      "|  Edward| 27|         2| 30000|\n",
      "| Charlie| 25|         4| 25000|\n",
      "|    Luka| 25|         4| 40000|\n",
      "| Kirstin| 51|        30| 60000|\n",
      "|   Harry| 55|        34| 34000|\n",
      "|   Sunny| 29|         4| 20000|\n",
      "|    null| 34|        10| 38000|\n",
      "+--------+---+----------+------+\n",
      "\n"
     ]
    }
   ],
   "source": [
    "# Subset to only drop null values where they appear in one column\n",
    "df.na.drop(how='any', subset=['Experience']).show()"
   ]
  },
  {
   "cell_type": "code",
   "execution_count": 42,
   "metadata": {},
   "outputs": [
    {
     "name": "stdout",
     "output_type": "stream",
     "text": [
      "+--------+----+----------+------+\n",
      "|    Name| Age|Experience|Salary|\n",
      "+--------+----+----------+------+\n",
      "|Harrison|  24|         2| 30000|\n",
      "|  Edward|  27|         2| 30000|\n",
      "| Charlie|  25|         4| 25000|\n",
      "|    Luka|  25|         4| 40000|\n",
      "| Kirstin|  51|        30| 60000|\n",
      "|   Harry|  55|        34| 34000|\n",
      "|   Sunny|  29|         4| 20000|\n",
      "|  Sophia|null|      null| 76000|\n",
      "|    null|  34|        10| 38000|\n",
      "|    null|  36|      null|  null|\n",
      "+--------+----+----------+------+\n",
      "\n"
     ]
    }
   ],
   "source": [
    "df.show()"
   ]
  },
  {
   "cell_type": "code",
   "execution_count": 43,
   "metadata": {},
   "outputs": [
    {
     "name": "stdout",
     "output_type": "stream",
     "text": [
      "+--------+----+----------+------+\n",
      "|    Name| Age|Experience|Salary|\n",
      "+--------+----+----------+------+\n",
      "|Harrison|  24|         2| 30000|\n",
      "|  Edward|  27|         2| 30000|\n",
      "| Charlie|  25|         4| 25000|\n",
      "|    Luka|  25|         4| 40000|\n",
      "| Kirstin|  51|        30| 60000|\n",
      "|   Harry|  55|        34| 34000|\n",
      "|   Sunny|  29|         4| 20000|\n",
      "|  Sophia|null|         0| 76000|\n",
      "|    null|  34|        10| 38000|\n",
      "|    null|  36|         0|  null|\n",
      "+--------+----+----------+------+\n",
      "\n"
     ]
    }
   ],
   "source": [
    "# Filling missing values\n",
    "df.na.fill(0, 'Experience').show()"
   ]
  },
  {
   "cell_type": "code",
   "execution_count": 44,
   "metadata": {},
   "outputs": [
    {
     "name": "stdout",
     "output_type": "stream",
     "text": [
      "+--------+----+----------+------+\n",
      "|    Name| Age|Experience|Salary|\n",
      "+--------+----+----------+------+\n",
      "|Harrison|  24|         2| 30000|\n",
      "|  Edward|  27|         2| 30000|\n",
      "| Charlie|  25|         4| 25000|\n",
      "|    Luka|  25|         4| 40000|\n",
      "| Kirstin|  51|        30| 60000|\n",
      "|   Harry|  55|        34| 34000|\n",
      "|   Sunny|  29|         4| 20000|\n",
      "|  Sophia|null|      null| 76000|\n",
      "|    null|  34|        10| 38000|\n",
      "|    null|  36|      null|  null|\n",
      "+--------+----+----------+------+\n",
      "\n"
     ]
    }
   ],
   "source": [
    "df.show()"
   ]
  },
  {
   "cell_type": "code",
   "execution_count": 45,
   "metadata": {},
   "outputs": [],
   "source": [
    "# Fill null values with the mean of the column\n",
    "from pyspark.ml.feature import Imputer\n",
    "\n",
    "imputer = Imputer(\n",
    "    inputCols=['Age', 'Experience', 'Salary'],\n",
    "    outputCols=['{}_imputed'.format(c) for c in ['Age', 'Experience', 'Salary']]\n",
    "    ).setStrategy('mean')"
   ]
  },
  {
   "cell_type": "code",
   "execution_count": 46,
   "metadata": {},
   "outputs": [
    {
     "name": "stdout",
     "output_type": "stream",
     "text": [
      "+--------+----+----------+------+-----------+------------------+--------------+\n",
      "|    Name| Age|Experience|Salary|Age_imputed|Experience_imputed|Salary_imputed|\n",
      "+--------+----+----------+------+-----------+------------------+--------------+\n",
      "|Harrison|  24|         2| 30000|         24|                 2|         30000|\n",
      "|  Edward|  27|         2| 30000|         27|                 2|         30000|\n",
      "| Charlie|  25|         4| 25000|         25|                 4|         25000|\n",
      "|    Luka|  25|         4| 40000|         25|                 4|         40000|\n",
      "| Kirstin|  51|        30| 60000|         51|                30|         60000|\n",
      "|   Harry|  55|        34| 34000|         55|                34|         34000|\n",
      "|   Sunny|  29|         4| 20000|         29|                 4|         20000|\n",
      "|  Sophia|null|      null| 76000|         34|                11|         76000|\n",
      "|    null|  34|        10| 38000|         34|                10|         38000|\n",
      "|    null|  36|      null|  null|         36|                11|         39222|\n",
      "+--------+----+----------+------+-----------+------------------+--------------+\n",
      "\n"
     ]
    }
   ],
   "source": [
    "# Add imputation cols to df\n",
    "imputer.fit(df).transform(df).show()"
   ]
  },
  {
   "cell_type": "markdown",
   "metadata": {},
   "source": [
    "## Conditional Statements"
   ]
  },
  {
   "cell_type": "code",
   "execution_count": 5,
   "metadata": {},
   "outputs": [
    {
     "name": "stdout",
     "output_type": "stream",
     "text": [
      "+--------+----+----------+------+\n",
      "|    Name| Age|Experience|Salary|\n",
      "+--------+----+----------+------+\n",
      "|Harrison|  24|         2| 30000|\n",
      "|  Edward|  27|         2| 30000|\n",
      "| Charlie|  25|         4| 25000|\n",
      "|    Luka|  25|         4| 40000|\n",
      "| Kirstin|  51|        30| 60000|\n",
      "|   Harry|  55|        34| 34000|\n",
      "|   Sunny|  29|         4| 20000|\n",
      "|  Sophia|null|      null| 76000|\n",
      "|    null|  34|        10| 38000|\n",
      "|    null|  36|      null|  null|\n",
      "+--------+----+----------+------+\n",
      "\n"
     ]
    }
   ],
   "source": [
    "df = spark.read.csv('Salary.csv', header=True, inferSchema=True)\n",
    "df.show()"
   ]
  },
  {
   "cell_type": "code",
   "execution_count": 7,
   "metadata": {},
   "outputs": [
    {
     "name": "stdout",
     "output_type": "stream",
     "text": [
      "+--------+---+\n",
      "|    Name|Age|\n",
      "+--------+---+\n",
      "|Harrison| 24|\n",
      "|  Edward| 27|\n",
      "| Charlie| 25|\n",
      "|   Sunny| 29|\n",
      "+--------+---+\n",
      "\n"
     ]
    }
   ],
   "source": [
    "# Salary of people less than or equal to 20000\n",
    "df.filter('Salary<=30000').select(['Name', 'Age']).show()"
   ]
  },
  {
   "cell_type": "code",
   "execution_count": 10,
   "metadata": {},
   "outputs": [
    {
     "name": "stdout",
     "output_type": "stream",
     "text": [
      "+--------+---+----------+------+\n",
      "|    Name|Age|Experience|Salary|\n",
      "+--------+---+----------+------+\n",
      "|Harrison| 24|         2| 30000|\n",
      "| Charlie| 25|         4| 25000|\n",
      "+--------+---+----------+------+\n",
      "\n"
     ]
    }
   ],
   "source": [
    "# Multiple conditions with &\n",
    "df.filter((df['Salary']<=30000) & (df['Age'] <= 25)).show()"
   ]
  },
  {
   "cell_type": "code",
   "execution_count": 11,
   "metadata": {},
   "outputs": [
    {
     "name": "stdout",
     "output_type": "stream",
     "text": [
      "+--------+---+----------+------+\n",
      "|    Name|Age|Experience|Salary|\n",
      "+--------+---+----------+------+\n",
      "|Harrison| 24|         2| 30000|\n",
      "|  Edward| 27|         2| 30000|\n",
      "| Charlie| 25|         4| 25000|\n",
      "|    Luka| 25|         4| 40000|\n",
      "|   Sunny| 29|         4| 20000|\n",
      "+--------+---+----------+------+\n",
      "\n"
     ]
    }
   ],
   "source": [
    "# Multiple conditions with |\n",
    "df.filter((df['Salary']<=30000) | (df['Age'] <= 25)).show()"
   ]
  },
  {
   "cell_type": "code",
   "execution_count": 15,
   "metadata": {},
   "outputs": [
    {
     "name": "stdout",
     "output_type": "stream",
     "text": [
      "+-------+----+----------+------+\n",
      "|   Name| Age|Experience|Salary|\n",
      "+-------+----+----------+------+\n",
      "| Edward|  27|         2| 30000|\n",
      "|Charlie|  25|         4| 25000|\n",
      "|   Luka|  25|         4| 40000|\n",
      "|Kirstin|  51|        30| 60000|\n",
      "|  Harry|  55|        34| 34000|\n",
      "|  Sunny|  29|         4| 20000|\n",
      "| Sophia|null|      null| 76000|\n",
      "+-------+----+----------+------+\n",
      "\n"
     ]
    }
   ],
   "source": [
    "# Not condition using ~\n",
    "df.filter(~(df['Name'] == 'Harrison')).show()"
   ]
  },
  {
   "cell_type": "markdown",
   "metadata": {},
   "source": [
    "## GroupBy and Aggregate functions"
   ]
  },
  {
   "cell_type": "code",
   "execution_count": 16,
   "metadata": {},
   "outputs": [
    {
     "name": "stdout",
     "output_type": "stream",
     "text": [
      "+--------+------------+------+\n",
      "|    Name| Departments|Salary|\n",
      "+--------+------------+------+\n",
      "|Harrison|Data Science| 30000|\n",
      "|  Edward|Data Science| 30000|\n",
      "| Charlie|         IOT| 25000|\n",
      "|    Luka|     Finance| 40000|\n",
      "| Kirstin|     Product| 60000|\n",
      "|   Harry|         IOT| 34000|\n",
      "|   Sunny|    Big Data| 20000|\n",
      "|  Sophia|Data Science| 76000|\n",
      "|  Hester|     Product| 38000|\n",
      "+--------+------------+------+\n",
      "\n"
     ]
    }
   ],
   "source": [
    "df = spark.read.csv('Departments.csv', header=True, inferSchema=True)\n",
    "df.show()"
   ]
  },
  {
   "cell_type": "code",
   "execution_count": 17,
   "metadata": {},
   "outputs": [
    {
     "name": "stdout",
     "output_type": "stream",
     "text": [
      "root\n",
      " |-- Name: string (nullable = true)\n",
      " |-- Departments: string (nullable = true)\n",
      " |-- Salary: integer (nullable = true)\n",
      "\n"
     ]
    }
   ],
   "source": [
    "df.printSchema()"
   ]
  },
  {
   "cell_type": "code",
   "execution_count": 24,
   "metadata": {},
   "outputs": [
    {
     "name": "stdout",
     "output_type": "stream",
     "text": [
      "+------------+-----------+\n",
      "| Departments|max(Salary)|\n",
      "+------------+-----------+\n",
      "|         IOT|      34000|\n",
      "|     Finance|      40000|\n",
      "|    Big Data|      20000|\n",
      "|     Product|      60000|\n",
      "|Data Science|      76000|\n",
      "+------------+-----------+\n",
      "\n"
     ]
    }
   ],
   "source": [
    "# Groupby operation\n",
    "df.groupBy('Departments').max().show()"
   ]
  },
  {
   "cell_type": "code",
   "execution_count": null,
   "metadata": {},
   "outputs": [],
   "source": []
  }
 ],
 "metadata": {
  "kernelspec": {
   "display_name": "Python 3.9.7 ('base')",
   "language": "python",
   "name": "python3"
  },
  "language_info": {
   "codemirror_mode": {
    "name": "ipython",
    "version": 3
   },
   "file_extension": ".py",
   "mimetype": "text/x-python",
   "name": "python",
   "nbconvert_exporter": "python",
   "pygments_lexer": "ipython3",
   "version": "3.9.7"
  },
  "orig_nbformat": 4,
  "vscode": {
   "interpreter": {
    "hash": "e4cce46d6be9934fbd27f9ca0432556941ea5bdf741d4f4d64c6cd7f8dfa8fba"
   }
  }
 },
 "nbformat": 4,
 "nbformat_minor": 2
}
